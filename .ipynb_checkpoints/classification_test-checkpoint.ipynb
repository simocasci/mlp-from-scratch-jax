{
 "cells": [
  {
   "cell_type": "code",
   "execution_count": 1,
   "id": "7f4f1bd3",
   "metadata": {},
   "outputs": [],
   "source": [
    "import jax\n",
    "import jax.numpy as jnp\n",
    "from jax import vmap\n",
    "from mlp import MLP\n",
    "import tensorflow.keras.datasets as datasets"
   ]
  },
  {
   "cell_type": "code",
   "execution_count": 2,
   "id": "f8134ecf",
   "metadata": {},
   "outputs": [],
   "source": [
    "def get_preprocessed_mnist():\n",
    "    def to_one_hot(x, classes):\n",
    "        return jax.ops.index_update(jnp.zeros(classes), x, 1)\n",
    "    (x_train, y_train), (x_test, y_test) = datasets.mnist.load_data()\n",
    "    x_train = x_train.reshape(-1, 28*28) / 255\n",
    "    x_test = x_test.reshape(-1, 28*28) / 255\n",
    "    y_train = vmap(lambda x: to_one_hot(x, 10))(y_train)\n",
    "    y_test = vmap(lambda x: to_one_hot(x, 10))(y_test)\n",
    "    return x_train, y_train, x_test, y_test"
   ]
  },
  {
   "cell_type": "code",
   "execution_count": 3,
   "id": "fdace9ba",
   "metadata": {},
   "outputs": [
    {
     "name": "stderr",
     "output_type": "stream",
     "text": [
      "WARNING:absl:No GPU/TPU found, falling back to CPU. (Set TF_CPP_MIN_LOG_LEVEL=0 and rerun for more info.)\n"
     ]
    }
   ],
   "source": [
    "x_train, y_train, x_test, y_test = get_preprocessed_mnist()"
   ]
  },
  {
   "cell_type": "code",
   "execution_count": 4,
   "id": "b97d0ca8",
   "metadata": {},
   "outputs": [],
   "source": [
    "mlp = MLP([28*28, 512, 512, 10], 'classification')"
   ]
  },
  {
   "cell_type": "code",
   "execution_count": 5,
   "id": "fab3b0fc",
   "metadata": {},
   "outputs": [
    {
     "name": "stdout",
     "output_type": "stream",
     "text": [
      "CPU times: user 1min 32s, sys: 5.75 s, total: 1min 37s\n",
      "Wall time: 32.7 s\n"
     ]
    }
   ],
   "source": [
    "%%time\n",
    "mlp.train(x_train, y_train)"
   ]
  },
  {
   "cell_type": "code",
   "execution_count": 6,
   "id": "38666e81",
   "metadata": {},
   "outputs": [
    {
     "name": "stdout",
     "output_type": "stream",
     "text": [
      "accuracy: 92.31%\n"
     ]
    }
   ],
   "source": [
    "print(f'accuracy: {mlp.accuracy(x_test, y_test)*100:.2f}%')"
   ]
  }
 ],
 "metadata": {
  "kernelspec": {
   "display_name": "Python 3",
   "language": "python",
   "name": "python3"
  },
  "language_info": {
   "codemirror_mode": {
    "name": "ipython",
    "version": 3
   },
   "file_extension": ".py",
   "mimetype": "text/x-python",
   "name": "python",
   "nbconvert_exporter": "python",
   "pygments_lexer": "ipython3",
   "version": "3.8.5"
  }
 },
 "nbformat": 4,
 "nbformat_minor": 5
}
